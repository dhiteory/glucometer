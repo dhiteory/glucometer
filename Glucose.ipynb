{
 "cells": [
  {
   "cell_type": "markdown",
   "id": "a495c8e4",
   "metadata": {},
   "source": [
    "# Analisis Glucometer Noninvasive"
   ]
  },
  {
   "cell_type": "markdown",
   "id": "235755c8",
   "metadata": {},
   "source": [
    "### NAMA: RADHITE MAJID SUKARDI\n",
    "### NIM: 081911733035\n",
    "\n",
    "#### S1 - TEKNIK BIOMEDIS, FAKULTAS SAINS DAN TEKNOLOGI, UNIVERSITAS AIRLANGGA\n",
    "#### 2023"
   ]
  },
  {
   "cell_type": "markdown",
   "id": "2c961a87",
   "metadata": {},
   "source": [
    "## Library"
   ]
  },
  {
   "cell_type": "code",
   "execution_count": 307,
   "id": "ec267457",
   "metadata": {},
   "outputs": [],
   "source": [
    "import pandas as pd\n",
    "from pandas import Series\n",
    "import matplotlib.pyplot as plt #other command: from matplotlib import pyplot as plt\n",
    "from scipy.stats import kurtosis\n",
    "from scipy import signal\n",
    "from scipy import arange\n",
    "import numpy as np\n",
    "import math\n",
    "from peakdetect import peakdetect\n",
    "import pywt\n",
    "import warnings\n",
    "import os\n",
    "from sklearn.neural_network import MLPClassifier\n",
    "from sklearn.preprocessing import MinMaxScaler\n",
    "from tabulate import tabulate\n",
    "import pickle\n",
    "\n",
    "warnings.filterwarnings(\"ignore\")"
   ]
  },
  {
   "cell_type": "markdown",
   "id": "4f40382f",
   "metadata": {},
   "source": [
    "## 1. Body Mass Index (BMI)"
   ]
  },
  {
   "cell_type": "code",
   "execution_count": 308,
   "id": "b643918f",
   "metadata": {},
   "outputs": [],
   "source": [
    "def bmi_fun(ppgRaw): #beratBadan (KG), tinggiBadan (CM)\n",
    "    bb = co4\n",
    "    tb = co3/100\n",
    "    result = round(bb/tb**2, 3)\n",
    "    return result"
   ]
  },
  {
   "cell_type": "markdown",
   "id": "1b763ab4",
   "metadata": {},
   "source": [
    "## 2. Peak-to-Peak [Standard Deviation (Amplitude), Kurtosis (Interval), Mean Absolute Deviation (Amplitude)]"
   ]
  },
  {
   "cell_type": "code",
   "execution_count": 309,
   "id": "c1a3f5cc",
   "metadata": {},
   "outputs": [],
   "source": [
    "def pp_fun(ppgRaw):\n",
    "    \n",
    "    #Deteksi PP:\n",
    "    peaks = peakdetect(co2, lookahead=20) \n",
    "    # Lookahead is the distance to look ahead from a peak to determine if it is the actual peak. \n",
    "    # Change lookahead as necessary \n",
    "    higherPeaks = np.array(peaks[0])\n",
    "    lowerPeaks = np.array(peaks[1])\n",
    "    \n",
    "    #Inisial untuk variabel PP\n",
    "    np.set_printoptions(suppress=True) #Agar tidak bernilai E+\n",
    "    hiNum = higherPeaks[:,0]\n",
    "    loNum = lowerPeaks[:,0]\n",
    "    \n",
    "    #Merapikan PP pada ujung awal dan akhir signal\n",
    "    if loNum[0] < hiNum[0]: #Mengecualikan low-peak pertama jika berada terawal\n",
    "        loNum = loNum[1:]\n",
    "    if hiNum[-1] > loNum[-1]: #Mengecualikan high-peak terakhir jika berada terakhir\n",
    "        hiNum = hiNum[:-1]\n",
    "    \n",
    "    #Index to volt\n",
    "    hiVolt = []\n",
    "    loVolt = []\n",
    "\n",
    "    for i in hiNum:\n",
    "        hiVolt.append(co2[i])\n",
    "    for i in loNum:\n",
    "        loVolt.append(co2[i])\n",
    "        \n",
    "    #Interval\n",
    "    interval_values = []\n",
    "    for i in higherPeaks[:,0]:\n",
    "        if i == higherPeaks[0,0]:\n",
    "            beNum = i\n",
    "        else:\n",
    "            intervalFormula = abs(co1[i]-co1[beNum])\n",
    "            beNum = i\n",
    "            interval_values.append(intervalFormula)\n",
    "    \n",
    "    #Amplitude\n",
    "    amplitude_values = []\n",
    "    for i in range(len(higherPeaks[:,0]) - 1):\n",
    "        amplitudeFormula = abs(hiVolt[i] - loVolt[i])\n",
    "        amplitude_values.append(amplitudeFormula)\n",
    "        \n",
    "    #2.1. Standar Deviasi\n",
    "    #PANDAS: print(ppgRaw.std()) atau NUMPY: print(np.std(ppgRaw))\n",
    "    #Standar Deviasi di kolom tertentu dengan contoh: print(ppgRaw['ppg_g'].std())\n",
    "    #std di pd dan np berbeda secara default, selengkapnya: https://pub.towardsai.net/here-is-why-you-probably-use-numpy-std-incorrectly-276c40aaf82e\n",
    "    STD = round(np.std(amplitude_values), 3)\n",
    "    #STD = STD.to_numpy()\n",
    "    \n",
    "    #2.2. Kurtosis (Standard Deviation of Interval)\n",
    "    KURT = round(kurtosis(interval_values, axis = 0, fisher=False, bias =True), 3)\n",
    "    \n",
    "    #2.3. Mean Absolute Deviation (MAD)\n",
    "    series = pd.Series(amplitude_values) #MAD perlu tipe series (menurun); csv merupakan tipe series\n",
    "    #amplitude_values = np.array(amplitude_values)\n",
    "    MAD = round(series.mad(), 3)\n",
    "    #MAD = MAD.to_numpy()\n",
    "    \n",
    "    return STD, KURT, MAD"
   ]
  },
  {
   "cell_type": "markdown",
   "id": "2bc3990d",
   "metadata": {},
   "source": [
    "## 3. Detrended Fluctuation Analysis (DFA)"
   ]
  },
  {
   "cell_type": "code",
   "execution_count": 310,
   "id": "4c86fddb",
   "metadata": {},
   "outputs": [],
   "source": [
    "#DFA\n",
    "def dfa_fun(signal):\n",
    "    \n",
    "    signal = co2\n",
    "    \n",
    "    # Calculate cumulative sum of the signal\n",
    "    cumsum = np.cumsum(signal - np.mean(signal))\n",
    "    \n",
    "    # Calculate the profile or integrated signal\n",
    "    profile = cumsum - np.arange(len(signal)) * np.mean(signal)\n",
    "    \n",
    "    # Divide the profile into non-overlapping segments\n",
    "    window_sizes = np.logspace(1, np.log10(len(signal)//4), 10).astype(int)\n",
    "    fluctuation = np.zeros(len(window_sizes))\n",
    "    \n",
    "    for i, window in enumerate(window_sizes):\n",
    "        # Calculate the local trend by fitting a polynomial of order 1 (linear)\n",
    "        local_trend = np.polyfit(np.arange(window), profile[:window], 1)\n",
    "        \n",
    "        # Calculate the detrended fluctuation within each segment\n",
    "        detrended_segment = profile[:window] - np.polyval(local_trend, np.arange(window))\n",
    "        fluctuation[i] = np.sqrt(np.mean(detrended_segment**2))\n",
    "    \n",
    "    # Fit a line to the fluctuation values in log-log space to obtain the DFA exponent\n",
    "    alpha = np.polyfit(np.log(window_sizes), np.log(fluctuation), 1)[0]\n",
    "    alpha = round(alpha, 3)\n",
    "    \n",
    "    return alpha"
   ]
  },
  {
   "cell_type": "markdown",
   "id": "3a52c6e8",
   "metadata": {},
   "source": [
    "## 4. Power Spectral Density (PSD)"
   ]
  },
  {
   "cell_type": "code",
   "execution_count": 311,
   "id": "cd6400bf",
   "metadata": {},
   "outputs": [],
   "source": [
    "#PSD\n",
    "def psd_fun(signal):\n",
    "    signal = co2\n",
    "    duration = round(co1[int(len(co1)) - 1], 1)\n",
    "    sampling_rate = len(signal)/duration\n",
    "    # Compute the one-sided PSD using the FFT algorithm\n",
    "    freqs, psd = plt.psd(signal, NFFT=len(signal), Fs=sampling_rate, window=plt.mlab.window_hanning)\n",
    "    psd_mean = round(np.mean(freqs), 3)\n",
    "    \n",
    "    return psd_mean"
   ]
  },
  {
   "cell_type": "markdown",
   "id": "18ec88fd",
   "metadata": {},
   "source": [
    "## 5. Wavelet Entropy (WE)"
   ]
  },
  {
   "cell_type": "code",
   "execution_count": 312,
   "id": "bac1c810",
   "metadata": {},
   "outputs": [],
   "source": [
    "#WE\n",
    "def we_fun(signal, wavelet='db4', level=4, entropy='tsallis'):\n",
    "    signal = co2\n",
    "    # Perform wavelet decomposition\n",
    "    coeffs = pywt.wavedec(signal, wavelet, level=level)\n",
    "    \n",
    "    wavelet_entropies = []\n",
    "    \n",
    "    for c in coeffs:\n",
    "        # Calculate normalized wavelet coefficients\n",
    "        nwc = np.abs(c) / np.sum(np.abs(c))\n",
    "        \n",
    "        # Calculate probability density function\n",
    "        pdf, _ = np.histogram(nwc, bins='auto', density=True)\n",
    "        \n",
    "        # Remove zero probabilities to avoid errors in entropy calculation\n",
    "        pdf = pdf[np.nonzero(pdf)]\n",
    "        \n",
    "        # Calculate entropy\n",
    "        if entropy == 'shannon':\n",
    "            entropy_val = -np.sum(pdf * np.log2(pdf))\n",
    "        elif entropy == 'tsallis':\n",
    "            q = 2  # You can adjust the value of q for Tsallis entropy\n",
    "            entropy_val = np.sum(pdf ** q - pdf)\n",
    "        else:\n",
    "            raise ValueError(\"Invalid entropy measure. Choose either 'shannon' or 'tsallis'.\")\n",
    "        \n",
    "        wavelet_entropies.append(entropy_val)\n",
    "    average_entropy = np.mean(wavelet_entropies)\n",
    "    #return average_entropy\n",
    "    \n",
    "    return round(np.mean(wavelet_entropies), 3)  # You can also use np.sum() instead of np.mean() to get the sum of entropies"
   ]
  },
  {
   "cell_type": "markdown",
   "id": "b045a2f9",
   "metadata": {},
   "source": [
    "## Clarke Error Grid Analysis (CEGA)"
   ]
  },
  {
   "cell_type": "code",
   "execution_count": 313,
   "id": "8483f6dd",
   "metadata": {},
   "outputs": [],
   "source": [
    "# Source: https://github.com/suetAndTie/ClarkeErrorGrid\n",
    "def clarke_error_grid(ref_values, pred_values, title_string):\n",
    "\n",
    "    #Checking to see if the lengths of the reference and prediction arrays are the same\n",
    "    assert (len(ref_values) == len(pred_values)), \"Unequal number of values (reference : {}) (prediction : {}).\".format(len(ref_values), len(pred_values))\n",
    "\n",
    "    #Checks to see if the values are within the normal physiological range, otherwise it gives a warning\n",
    "    if max(ref_values) > 400 or max(pred_values) > 400:\n",
    "        print(\"Input Warning: the maximum reference value {} or the maximum prediction value {} exceeds the normal physiological range of glucose (<400 mg/dl).\").format(max(ref_values), max(pred_values))\n",
    "    if min(ref_values) < 0 or min(pred_values) < 0:\n",
    "        print (\"Input Warning: the minimum reference value {} or the minimum prediction value {} is less than 0 mg/dl.\").format(min(ref_values),  min(pred_values))\n",
    "\n",
    "    #Clear plot\n",
    "    plt.clf()\n",
    "\n",
    "    #Set up plot\n",
    "    plt.scatter(ref_values, pred_values, marker='o', color='black', s=8)\n",
    "    plt.title(title_string + \" Clarke Error Grid\")\n",
    "    plt.xlabel(\"Reference Concentration (mg/dl)\")\n",
    "    plt.ylabel(\"Prediction Concentration (mg/dl)\")\n",
    "    plt.xticks([0, 50, 100, 150, 200, 250, 300, 350, 400])\n",
    "    plt.yticks([0, 50, 100, 150, 200, 250, 300, 350, 400])\n",
    "    plt.gca().set_facecolor('white')\n",
    "\n",
    "    #Set axes lengths\n",
    "    plt.gca().set_xlim([0, 400])\n",
    "    plt.gca().set_ylim([0, 400])\n",
    "    plt.gca().set_aspect((400)/(400))\n",
    "\n",
    "    #Plot zone lines\n",
    "    plt.plot([0,400], [0,400], ':', c='black')                      #Theoretical 45 regression line\n",
    "    plt.plot([0, 175/3], [70, 70], '-', c='black')\n",
    "    #plt.plot([175/3, 320], [70, 400], '-', c='black')\n",
    "    plt.plot([175/3, 400/1.2], [70, 400], '-', c='black')           #Replace 320 with 400/1.2 because 100*(400 - 400/1.2)/(400/1.2) =  20% error\n",
    "    plt.plot([70, 70], [84, 400],'-', c='black')\n",
    "    plt.plot([0, 70], [180, 180], '-', c='black')\n",
    "    plt.plot([70, 290],[180, 400],'-', c='black')\n",
    "    # plt.plot([70, 70], [0, 175/3], '-', c='black')\n",
    "    plt.plot([70, 70], [0, 56], '-', c='black')                     #Replace 175.3 with 56 because 100*abs(56-70)/70) = 20% error\n",
    "    # plt.plot([70, 400],[175/3, 320],'-', c='black')\n",
    "    plt.plot([70, 400], [56, 320],'-', c='black')\n",
    "    plt.plot([180, 180], [0, 70], '-', c='black')\n",
    "    plt.plot([180, 400], [70, 70], '-', c='black')\n",
    "    plt.plot([240, 240], [70, 180],'-', c='black')\n",
    "    plt.plot([240, 400], [180, 180], '-', c='black')\n",
    "    plt.plot([130, 180], [0, 70], '-', c='black')\n",
    "\n",
    "    #Add zone titles\n",
    "    plt.text(30, 15, \"A\", fontsize=15)\n",
    "    plt.text(370, 260, \"B\", fontsize=15)\n",
    "    plt.text(280, 370, \"B\", fontsize=15)\n",
    "    plt.text(160, 370, \"C\", fontsize=15)\n",
    "    plt.text(160, 15, \"C\", fontsize=15)\n",
    "    plt.text(30, 140, \"D\", fontsize=15)\n",
    "    plt.text(370, 120, \"D\", fontsize=15)\n",
    "    plt.text(30, 370, \"E\", fontsize=15)\n",
    "    plt.text(370, 15, \"E\", fontsize=15)\n",
    "\n",
    "    #Statistics from the data\n",
    "    zone = [0] * 5\n",
    "    for i in range(len(ref_values)):\n",
    "        if (ref_values[i] <= 70 and pred_values[i] <= 70) or (pred_values[i] <= 1.2*ref_values[i] and pred_values[i] >= 0.8*ref_values[i]):\n",
    "            zone[0] += 1    #Zone A\n",
    "\n",
    "        elif (ref_values[i] >= 180 and pred_values[i] <= 70) or (ref_values[i] <= 70 and pred_values[i] >= 180):\n",
    "            zone[4] += 1    #Zone E\n",
    "\n",
    "        elif ((ref_values[i] >= 70 and ref_values[i] <= 290) and pred_values[i] >= ref_values[i] + 110) or ((ref_values[i] >= 130 and ref_values[i] <= 180) and (pred_values[i] <= (7/5)*ref_values[i] - 182)):\n",
    "            zone[2] += 1    #Zone C\n",
    "        elif (ref_values[i] >= 240 and (pred_values[i] >= 70 and pred_values[i] <= 180)) or (ref_values[i] <= 175/3 and pred_values[i] <= 180 and pred_values[i] >= 70) or ((ref_values[i] >= 175/3 and ref_values[i] <= 70) and pred_values[i] >= (6/5)*ref_values[i]):\n",
    "            zone[3] += 1    #Zone D\n",
    "        else:\n",
    "            zone[1] += 1    #Zone B\n",
    "\n",
    "    return plt, zone"
   ]
  },
  {
   "cell_type": "markdown",
   "id": "378b753e",
   "metadata": {},
   "source": [
    "## TRAINING DATASET"
   ]
  },
  {
   "cell_type": "code",
   "execution_count": 314,
   "id": "ad255357",
   "metadata": {
    "scrolled": true
   },
   "outputs": [
    {
     "data": {
      "text/plain": [
       "[['aaron.csv', 16.706, 0.37, 3.997, 0.302, 0.975, 0.08, 177497.247, 93.0],\n",
       " ['addin.csv', 19.253, 0.04, 1.836, 0.031, 1.236, 0.11, 161995.064, 78.0],\n",
       " ['adit19.csv', 18.929, 0.054, 1.7, 0.043, 0.728, 0.116, 139102.151, 93.0],\n",
       " ['afiq19.csv', 31.603, 0.03, 3.187, 0.021, 0.93, 0.126, 158095.535, 95.0],\n",
       " ['aje.csv', 23.951, 0.288, 1.556, 0.22, 1.489, 0.094, 150537.6, 86.0],\n",
       " ['alfin.csv', 34.351, 0.283, 2.244, 0.253, 1.407, 0.103, 156322.881, 108.0],\n",
       " ['ardan.csv', 25.606, 0.255, 2.501, 0.217, 1.343, 0.084, 157286.867, 93.0],\n",
       " ['ardian.csv', 18.987, 0.217, 1.816, 0.176, 1.27, 0.08, 143735.822, 77.0],\n",
       " ['ario.csv', 15.777, 0.251, 2.131, 0.2, 1.149, 0.079, 208979.397, 89.0],\n",
       " ['bintang.csv', 28.721, 0.211, 2.623, 0.18, 1.387, 0.087, 143524.241, 86.0],\n",
       " ['denil.csv', 29.752, 0.243, 2.196, 0.187, 1.108, 0.084, 165588.057, 91.0],\n",
       " ['derry.csv', 19.362, 0.295, 1.692, 0.252, 1.36, 0.095, 164893.11, 73.0],\n",
       " ['edim.csv', 30.76, 0.232, 2.559, 0.204, 1.893, 0.112, 159034.429, 93.0],\n",
       " ['excell.csv', 30.487, 0.05, 3.033, 0.031, 1.023, 0.123, 143418.46, 85.0],\n",
       " ['fahrie.csv', 26.424, 0.824, 1.385, 0.755, 1.486, 0.085, 147837.787, 103.0],\n",
       " ['fauzi19.csv', 34.368, 0.255, 2.236, 0.216, 1.25, 0.097, 155006.514, 103.0],\n",
       " ['fikri.csv', 19.35, 0.225, 3.681, 0.174, 1.023, 0.085, 163597.212, 89.0],\n",
       " ['heza.csv', 21.469, 0.009, 1.725, 0.006, 1.116, 0.12, 206875.946, 75.0],\n",
       " ['hrz.csv', 26.298, 0.996, 4.782, 0.572, 0.986, 0.097, 179940.547, 90.0],\n",
       " ['jekik.csv', 22.145, 0.426, 2.262, 0.352, 0.611, 0.083, 156636.502, 98.0],\n",
       " ['jona.csv', 22.093, 0.153, 1.888, 0.129, 1.642, 0.107, 173728.799, 98.0],\n",
       " ['kevom.csv', 19.467, 0.079, 1.887, 0.064, 1.526, 0.118, 150355.768, 79.0],\n",
       " ['made.csv', 30.837, 0.211, 3.735, 0.129, 0.659, 0.093, 209382.025, 83.0],\n",
       " ['nadziif.csv', 19.721, 0.381, 2.526, 0.316, 1.396, 0.115, 157196.411, 85.0],\n",
       " ['prima.csv', 28.409, 0.041, 2.634, 0.028, 1.339, 0.118, 144035.481, 106.0]]"
      ]
     },
     "execution_count": 314,
     "metadata": {},
     "output_type": "execute_result"
    },
    {
     "data": {
      "image/png": "[encoded data removed]",
      "text/plain": [
       "<Figure size 640x480 with 1 Axes>"
      ]
     },
     "metadata": {},
     "output_type": "display_data"
    }
   ],
   "source": [
    "#TRAINING DATASET\n",
    "trainGlucose = []\n",
    "\n",
    "# Set the path to the directory containing the CSV files\n",
    "folder_path = 'train'\n",
    "\n",
    "# Iterate over all files in the directory\n",
    "for file_name in os.listdir(folder_path):\n",
    "    if file_name.endswith('.csv'):\n",
    "        file_path = os.path.join(folder_path, file_name)\n",
    "        \n",
    "        # Perform calculations on the CSV file\n",
    "        df = pd.read_csv(file_path)\n",
    "        \n",
    "        #Variabel kolom\n",
    "        co1 = df.iloc[:,0] #column of time\n",
    "        co2 = df.iloc[:,1] #column of volt\n",
    "        co3 = df.iloc[0,2] #column of height\n",
    "        co4 = df.iloc[0,3] #column of weight\n",
    "        co5 = df.iloc[0,4] #column of invasive\n",
    "\n",
    "        bmi = bmi_fun(df)\n",
    "        pp = pp_fun(df)\n",
    "        dfa = dfa_fun(df)\n",
    "        psd = psd_fun(df)\n",
    "        we = we_fun(df)\n",
    "        trainGlucose.append([file_name, bmi, pp[0], pp[1], pp[2], dfa, psd, we, co5])\n",
    "\n",
    "trainGlucose\n"
   ]
  },
  {
   "cell_type": "markdown",
   "id": "f3a55a64",
   "metadata": {},
   "source": [
    "## TEST DATASET"
   ]
  },
  {
   "cell_type": "code",
   "execution_count": 315,
   "id": "eaa74fe1",
   "metadata": {
    "scrolled": true
   },
   "outputs": [
    {
     "data": {
      "text/plain": [
       "[['adit20.csv', 30.071, 0.329, 3.039, 0.26, 1.427, 0.115, 208349.284, 93.0],\n",
       " ['bagus.csv', 27.16, 0.119, 2.641, 0.101, 0.87, 0.079, 179969.538, 103.0],\n",
       " ['daf.csv', 21.514, 0.355, 1.427, 0.264, 1.88, 0.091, 155147.203, 99.0],\n",
       " ['khouliya.csv', 21.411, 0.352, 2.193, 0.275, 1.306, 0.076, 141549.933, 88.0],\n",
       " ['rad01.csv', 25.631, 0.175, 1.813, 0.154, 1.716, 0.13, 177559.902, 86.0],\n",
       " ['rad02.csv', 25.631, 0.007, 2.359, 0.006, 2.506, 0.142, 174798.223, 71.0],\n",
       " ['rad03.csv', 25.631, 0.0, 1.683, 0.0, 1.317, 0.141, 169685.378, 79.0],\n",
       " ['rad04.csv', 25.631, 0.005, 2.062, 0.003, 1.195, 0.135, 163751.687, 93.0],\n",
       " ['rad05.csv', 25.631, 0.198, 2.021, 0.168, 1.139, 0.094, 156564.049, 84.0],\n",
       " ['rik.csv', 22.837, 0.435, 1.603, 0.342, 0.979, 0.117, 172704.017, 91.0]]"
      ]
     },
     "execution_count": 315,
     "metadata": {},
     "output_type": "execute_result"
    },
    {
     "data": {
      "image/png": "[encoded data removed]",
      "text/plain": [
       "<Figure size 640x480 with 1 Axes>"
      ]
     },
     "metadata": {},
     "output_type": "display_data"
    }
   ],
   "source": [
    "#TEST DATASET\n",
    "testGlucose = []\n",
    "\n",
    "# Set the path to the directory containing the CSV files\n",
    "folder_path = 'test'\n",
    "\n",
    "# Iterate over all files in the directory\n",
    "for file_name in os.listdir(folder_path):\n",
    "    if file_name.endswith('.csv'):\n",
    "        file_path = os.path.join(folder_path, file_name)\n",
    "        \n",
    "        # Perform calculations on the CSV file\n",
    "        df = pd.read_csv(file_path)\n",
    "        \n",
    "        #Variabel kolom\n",
    "        co1 = df.iloc[:,0] #column of time\n",
    "        co2 = df.iloc[:,1] #column of volt\n",
    "        co3 = df.iloc[0,2] #column of height\n",
    "        co4 = df.iloc[0,3] #column of weight\n",
    "        co5 = df.iloc[0,4] #column of invasive\n",
    "\n",
    "        bmi = bmi_fun(df)\n",
    "        pp = pp_fun(df)\n",
    "        dfa = dfa_fun(df)\n",
    "        psd = psd_fun(df)\n",
    "        we = we_fun(df)\n",
    "        testGlucose.append([file_name, bmi, pp[0], pp[1], pp[2], dfa, psd, we, co5])\n",
    "\n",
    "testGlucose"
   ]
  },
  {
   "cell_type": "code",
   "execution_count": 316,
   "id": "a895fff4",
   "metadata": {},
   "outputs": [
    {
     "data": {
      "text/plain": [
       "['adit20.csv', 30.071, 0.329, 3.039, 0.26, 1.427, 0.115, 208349.284, 93.0]"
      ]
     },
     "execution_count": 316,
     "metadata": {},
     "output_type": "execute_result"
    }
   ],
   "source": [
    "testGlucose[0]"
   ]
  },
  {
   "cell_type": "markdown",
   "id": "5ab3b5c1",
   "metadata": {},
   "source": [
    "## Neural Network"
   ]
  },
  {
   "cell_type": "code",
   "execution_count": 317,
   "id": "66a5fc13",
   "metadata": {
    "scrolled": true
   },
   "outputs": [],
   "source": [
    "#newGlucose = [row[0:8] for row in myGlucose][25:30]\n",
    "#[row[1:9] for row in testGlucose]"
   ]
  },
  {
   "cell_type": "code",
   "execution_count": 318,
   "id": "b05d3c1d",
   "metadata": {
    "scrolled": true
   },
   "outputs": [],
   "source": [
    "X_train = [row[1:8] for row in trainGlucose]\n",
    "y_train = [row[8] for row in trainGlucose]\n",
    "X_test = [row[1:8] for row in testGlucose]\n",
    "y_test = [row[8] for row in testGlucose]"
   ]
  },
  {
   "cell_type": "code",
   "execution_count": 319,
   "id": "4b81d0a7",
   "metadata": {
    "scrolled": true
   },
   "outputs": [
    {
     "data": {
      "text/plain": [
       "[93.0,\n",
       " 78.0,\n",
       " 93.0,\n",
       " 95.0,\n",
       " 86.0,\n",
       " 108.0,\n",
       " 93.0,\n",
       " 77.0,\n",
       " 89.0,\n",
       " 86.0,\n",
       " 91.0,\n",
       " 73.0,\n",
       " 93.0,\n",
       " 85.0,\n",
       " 103.0,\n",
       " 103.0,\n",
       " 89.0,\n",
       " 75.0,\n",
       " 90.0,\n",
       " 98.0,\n",
       " 98.0,\n",
       " 79.0,\n",
       " 83.0,\n",
       " 85.0,\n",
       " 106.0]"
      ]
     },
     "execution_count": 319,
     "metadata": {},
     "output_type": "execute_result"
    }
   ],
   "source": [
    "#X_test\n",
    "y_train"
   ]
  },
  {
   "cell_type": "code",
   "execution_count": 320,
   "id": "f054aac5",
   "metadata": {
    "scrolled": false
   },
   "outputs": [
    {
     "name": "stdout",
     "output_type": "stream",
     "text": [
      "[[ 0.76886666  0.32421479  0.48690021  0.33911883  0.63650546  0.76595745\n",
      "   0.98530531]\n",
      " [ 0.61228551  0.11144883  0.369738    0.12683578  0.20202808  0.\n",
      "   0.58149488]\n",
      " [ 0.30859018  0.35055724  0.01236385  0.34445928  0.98985959  0.25531915\n",
      "   0.22830223]\n",
      " [ 0.30304986  0.34751773  0.23785693  0.35914553  0.54212168 -0.06382979\n",
      "   0.03482906]\n",
      " [ 0.53004142  0.16818642  0.12599352  0.1975968   0.86193448  1.08510638\n",
      "   0.54720859]\n",
      " [ 0.53004142 -0.00202634  0.28672358  0.          1.47815913  1.34042553\n",
      "   0.50791315]\n",
      " [ 0.53004142 -0.00911854  0.08772446 -0.00801068  0.55070203  1.31914894\n",
      "   0.43516337]\n",
      " [ 0.53004142 -0.00405268  0.19929349 -0.00400534  0.45553822  1.19148936\n",
      "   0.35073392]\n",
      " [ 0.53004142  0.19148936  0.18722402  0.21628838  0.41185647  0.31914894\n",
      "   0.24846228]\n",
      " [ 0.37975364  0.43161094  0.06417427  0.44859813  0.28705148  0.80851064\n",
      "   0.47811506]]\n"
     ]
    }
   ],
   "source": [
    "#Scaling Data\n",
    "\n",
    "min_max_scaler = MinMaxScaler()\n",
    "min_max_scaler.fit(X_train)\n",
    "X_train = min_max_scaler.transform(X_train)\n",
    "X_test = min_max_scaler.transform(X_test)\n",
    "\n",
    "print(X_test)"
   ]
  },
  {
   "cell_type": "code",
   "execution_count": 321,
   "id": "f54ed1a4",
   "metadata": {},
   "outputs": [
    {
     "data": {
      "text/plain": [
       "[93.0, 103.0, 99.0, 88.0, 86.0, 71.0, 79.0, 93.0, 84.0, 91.0]"
      ]
     },
     "execution_count": 321,
     "metadata": {},
     "output_type": "execute_result"
    }
   ],
   "source": [
    "y_test"
   ]
  },
  {
   "cell_type": "code",
   "execution_count": 322,
   "id": "e909c3d0",
   "metadata": {},
   "outputs": [],
   "source": [
    "pd.DataFrame(y_test).to_csv('00train.csv')"
   ]
  },
  {
   "cell_type": "code",
   "execution_count": 345,
   "id": "d1e697c6",
   "metadata": {
    "scrolled": true
   },
   "outputs": [
    {
     "name": "stdout",
     "output_type": "stream",
     "text": [
      "Iteration 1, loss = 2.83328981\n",
      "Iteration 2, loss = 2.75516013\n",
      "Iteration 3, loss = 2.72731248\n",
      "Iteration 4, loss = 2.72158229\n",
      "Iteration 5, loss = 2.72621900\n",
      "Iteration 6, loss = 2.72499529\n",
      "Iteration 7, loss = 2.72549170\n",
      "Iteration 8, loss = 2.70666865\n",
      "Iteration 9, loss = 2.69820396\n",
      "Iteration 10, loss = 2.68391730\n",
      "Iteration 11, loss = 2.66483392\n",
      "Iteration 12, loss = 2.65587782\n",
      "Iteration 13, loss = 2.64717259\n",
      "Iteration 14, loss = 2.62381040\n",
      "Iteration 15, loss = 2.61237224\n",
      "Iteration 16, loss = 2.58068294\n",
      "Iteration 17, loss = 2.56914402\n",
      "Iteration 18, loss = 2.54048559\n",
      "Iteration 19, loss = 2.51589209\n",
      "Iteration 20, loss = 2.49799144\n",
      "Iteration 21, loss = 2.47801663\n",
      "Iteration 22, loss = 2.46378947\n",
      "Iteration 23, loss = 2.44140624\n",
      "Iteration 24, loss = 2.41723515\n",
      "Iteration 25, loss = 2.39391906\n",
      "Iteration 26, loss = 2.36860561\n",
      "Iteration 27, loss = 2.35083315\n",
      "Iteration 28, loss = 2.32939220\n",
      "Iteration 29, loss = 2.31071292\n",
      "Iteration 30, loss = 2.29278783\n",
      "Iteration 31, loss = 2.26957997\n",
      "Iteration 32, loss = 2.25424578\n",
      "Iteration 33, loss = 2.22740475\n",
      "Iteration 34, loss = 2.21315562\n",
      "Iteration 35, loss = 2.19177240\n",
      "Iteration 36, loss = 2.17829353\n",
      "Iteration 37, loss = 2.14649248\n",
      "Iteration 38, loss = 2.12804254\n",
      "Iteration 39, loss = 2.11298573\n",
      "Iteration 40, loss = 2.09239146\n",
      "Iteration 41, loss = 2.07954803\n",
      "Iteration 42, loss = 2.05757748\n",
      "Iteration 43, loss = 2.04491739\n",
      "Iteration 44, loss = 2.02824821\n",
      "Iteration 45, loss = 2.01286048\n",
      "Iteration 46, loss = 1.99101003\n",
      "Iteration 47, loss = 1.97434908\n",
      "Iteration 48, loss = 1.96264886\n",
      "Iteration 49, loss = 1.94498111\n",
      "Iteration 50, loss = 1.92807451\n",
      "Iteration 51, loss = 1.91673560\n",
      "Iteration 52, loss = 1.89751086\n",
      "Iteration 53, loss = 1.88499251\n",
      "Iteration 54, loss = 1.87946361\n",
      "Iteration 55, loss = 1.86188726\n",
      "Iteration 56, loss = 1.85349239\n",
      "Iteration 57, loss = 1.83665568\n",
      "Iteration 58, loss = 1.82419989\n",
      "Iteration 59, loss = 1.81206974\n",
      "Iteration 60, loss = 1.81009616\n",
      "Iteration 61, loss = 1.79651253\n",
      "Iteration 62, loss = 1.78596385\n",
      "Iteration 63, loss = 1.77762179\n",
      "Iteration 64, loss = 1.77095262\n",
      "Iteration 65, loss = 1.76140929\n",
      "Iteration 66, loss = 1.75120140\n",
      "Iteration 67, loss = 1.75178124\n",
      "Iteration 68, loss = 1.74158643\n",
      "Iteration 69, loss = 1.73178580\n",
      "Iteration 70, loss = 1.72635406\n",
      "Iteration 71, loss = 1.72389184\n",
      "Iteration 72, loss = 1.71713350\n",
      "Iteration 73, loss = 1.70749003\n",
      "Iteration 74, loss = 1.70459347\n",
      "Iteration 75, loss = 1.70208666\n",
      "Iteration 76, loss = 1.69374800\n",
      "Iteration 77, loss = 1.68371360\n",
      "Iteration 78, loss = 1.68058664\n",
      "Iteration 79, loss = 1.67715635\n",
      "Iteration 80, loss = 1.66758718\n",
      "Iteration 81, loss = 1.66623554\n",
      "Iteration 82, loss = 1.65994589\n",
      "Iteration 83, loss = 1.66160161\n",
      "Iteration 84, loss = 1.65561392\n",
      "Iteration 85, loss = 1.64585083\n",
      "Iteration 86, loss = 1.64154400\n",
      "Iteration 87, loss = 1.63854763\n",
      "Iteration 88, loss = 1.64077631\n",
      "Iteration 89, loss = 1.63180608\n",
      "Iteration 90, loss = 1.62504047\n",
      "Iteration 91, loss = 1.61781645\n",
      "Iteration 92, loss = 1.61791014\n",
      "Iteration 93, loss = 1.61567741\n",
      "Iteration 94, loss = 1.60479580\n",
      "Iteration 95, loss = 1.59968760\n",
      "Iteration 96, loss = 1.59773796\n",
      "Iteration 97, loss = 1.59770998\n",
      "Iteration 98, loss = 1.58535092\n",
      "Iteration 99, loss = 1.57765696\n",
      "Iteration 100, loss = 1.58061938\n",
      "Iteration 101, loss = 1.56866918\n",
      "Iteration 102, loss = 1.56271633\n",
      "Iteration 103, loss = 1.55783551\n",
      "Iteration 104, loss = 1.55160446\n",
      "Iteration 105, loss = 1.54750315\n",
      "Iteration 106, loss = 1.54085621\n",
      "Iteration 107, loss = 1.53777154\n",
      "Iteration 108, loss = 1.53311704\n",
      "Iteration 109, loss = 1.52893534\n",
      "Iteration 110, loss = 1.52513816\n",
      "Iteration 111, loss = 1.52868617\n",
      "Iteration 112, loss = 1.57848510\n",
      "Iteration 113, loss = 1.53382183\n",
      "Iteration 114, loss = 1.54859638\n",
      "Iteration 115, loss = 1.53627141\n",
      "Iteration 116, loss = 1.53109785\n",
      "Iteration 117, loss = 1.52349289\n",
      "Iteration 118, loss = 1.52675228\n",
      "Iteration 119, loss = 1.50921284\n",
      "Iteration 120, loss = 1.52113519\n",
      "Iteration 121, loss = 1.50366731\n",
      "Iteration 122, loss = 1.50434484\n",
      "Iteration 123, loss = 1.50468775\n",
      "Iteration 124, loss = 1.49520572\n",
      "Iteration 125, loss = 1.49597613\n",
      "Iteration 126, loss = 1.49587484\n",
      "Iteration 127, loss = 1.48425357\n",
      "Iteration 128, loss = 1.48997019\n",
      "Iteration 129, loss = 1.48303816\n",
      "Iteration 130, loss = 1.47901583\n",
      "Iteration 131, loss = 1.47787378\n",
      "Iteration 132, loss = 1.47668835\n",
      "Iteration 133, loss = 1.47059608\n",
      "Iteration 134, loss = 1.47430418\n",
      "Iteration 135, loss = 1.46687493\n",
      "Iteration 136, loss = 1.46734547\n",
      "Iteration 137, loss = 1.46405849\n",
      "Iteration 138, loss = 1.46378660\n",
      "Iteration 139, loss = 1.46046223\n",
      "Iteration 140, loss = 1.46039765\n",
      "Iteration 141, loss = 1.45716334\n",
      "Iteration 142, loss = 1.45618126\n",
      "Iteration 143, loss = 1.45383889\n",
      "Iteration 144, loss = 1.45325248\n",
      "Iteration 145, loss = 1.45020356\n",
      "Iteration 146, loss = 1.45097970\n",
      "Iteration 147, loss = 1.44681995\n",
      "Iteration 148, loss = 1.44619798\n",
      "Iteration 149, loss = 1.45251347\n",
      "Iteration 150, loss = 1.49112932\n",
      "Iteration 151, loss = 1.46574949\n",
      "Iteration 152, loss = 1.47267023\n",
      "Iteration 153, loss = 1.46463753\n",
      "Iteration 154, loss = 1.46567713\n",
      "Iteration 155, loss = 1.45950194\n",
      "Iteration 156, loss = 1.46254761\n",
      "Iteration 157, loss = 1.44338370\n",
      "Iteration 158, loss = 1.44900677\n",
      "Iteration 159, loss = 1.44774769\n",
      "Iteration 160, loss = 1.44160016\n",
      "Iteration 161, loss = 1.43948775\n",
      "Iteration 162, loss = 1.44126731\n",
      "Iteration 163, loss = 1.43388636\n",
      "Iteration 164, loss = 1.43665401\n",
      "Iteration 165, loss = 1.43363935\n",
      "Iteration 166, loss = 1.42976469\n",
      "Iteration 167, loss = 1.42541931\n",
      "Iteration 168, loss = 1.42661413\n",
      "Iteration 169, loss = 1.41786959\n",
      "Iteration 170, loss = 1.41955336\n",
      "Iteration 171, loss = 1.41764113\n",
      "Iteration 172, loss = 1.41274847\n",
      "Iteration 173, loss = 1.40886865\n",
      "Iteration 174, loss = 1.41429359\n",
      "Iteration 175, loss = 1.43831021\n",
      "Iteration 176, loss = 1.42278899\n",
      "Iteration 177, loss = 1.40771272\n",
      "Iteration 178, loss = 1.42809063\n",
      "Iteration 179, loss = 1.42416291\n",
      "Iteration 180, loss = 1.39805660\n",
      "Iteration 181, loss = 1.39105400\n",
      "Iteration 182, loss = 1.39726074\n",
      "Iteration 183, loss = 1.39039098\n",
      "Iteration 184, loss = 1.37985963\n",
      "Iteration 185, loss = 1.38870390\n",
      "Iteration 186, loss = 1.40596964\n",
      "Iteration 187, loss = 1.38094642\n",
      "Iteration 188, loss = 1.37169973\n",
      "Iteration 189, loss = 1.39699789\n",
      "Iteration 190, loss = 1.38242893\n",
      "Iteration 191, loss = 1.36441449\n",
      "Iteration 192, loss = 1.38630252\n",
      "Iteration 193, loss = 1.38164215\n",
      "Iteration 194, loss = 1.36175754\n",
      "Iteration 195, loss = 1.38047430\n",
      "Iteration 196, loss = 1.38578796\n",
      "Iteration 197, loss = 1.35514896\n",
      "Iteration 198, loss = 1.36435891\n",
      "Iteration 199, loss = 1.37152423\n",
      "Iteration 200, loss = 1.40399607\n",
      "Iteration 201, loss = 1.40267397\n",
      "Iteration 202, loss = 1.35996462\n",
      "Iteration 203, loss = 1.42486632\n",
      "Iteration 204, loss = 1.37647752\n",
      "Iteration 205, loss = 1.37675113\n",
      "Iteration 206, loss = 1.37491429\n",
      "Iteration 207, loss = 1.36444371\n",
      "Iteration 208, loss = 1.39726466\n",
      "Training loss did not improve more than tol=0.000100 for 10 consecutive epochs. Stopping.\n"
     ]
    },
    {
     "data": {
      "text/html": [
       "<style>#sk-container-id-65 {color: black;background-color: white;}#sk-container-id-65 pre{padding: 0;}#sk-container-id-65 div.sk-toggleable {background-color: white;}#sk-container-id-65 label.sk-toggleable__label {cursor: pointer;display: block;width: 100%;margin-bottom: 0;padding: 0.3em;box-sizing: border-box;text-align: center;}#sk-container-id-65 label.sk-toggleable__label-arrow:before {content: \"▸\";float: left;margin-right: 0.25em;color: #696969;}#sk-container-id-65 label.sk-toggleable__label-arrow:hover:before {color: black;}#sk-container-id-65 div.sk-estimator:hover label.sk-toggleable__label-arrow:before {color: black;}#sk-container-id-65 div.sk-toggleable__content {max-height: 0;max-width: 0;overflow: hidden;text-align: left;background-color: #f0f8ff;}#sk-container-id-65 div.sk-toggleable__content pre {margin: 0.2em;color: black;border-radius: 0.25em;background-color: #f0f8ff;}#sk-container-id-65 input.sk-toggleable__control:checked~div.sk-toggleable__content {max-height: 200px;max-width: 100%;overflow: auto;}#sk-container-id-65 input.sk-toggleable__control:checked~label.sk-toggleable__label-arrow:before {content: \"▾\";}#sk-container-id-65 div.sk-estimator input.sk-toggleable__control:checked~label.sk-toggleable__label {background-color: #d4ebff;}#sk-container-id-65 div.sk-label input.sk-toggleable__control:checked~label.sk-toggleable__label {background-color: #d4ebff;}#sk-container-id-65 input.sk-hidden--visually {border: 0;clip: rect(1px 1px 1px 1px);clip: rect(1px, 1px, 1px, 1px);height: 1px;margin: -1px;overflow: hidden;padding: 0;position: absolute;width: 1px;}#sk-container-id-65 div.sk-estimator {font-family: monospace;background-color: #f0f8ff;border: 1px dotted black;border-radius: 0.25em;box-sizing: border-box;margin-bottom: 0.5em;}#sk-container-id-65 div.sk-estimator:hover {background-color: #d4ebff;}#sk-container-id-65 div.sk-parallel-item::after {content: \"\";width: 100%;border-bottom: 1px solid gray;flex-grow: 1;}#sk-container-id-65 div.sk-label:hover label.sk-toggleable__label {background-color: #d4ebff;}#sk-container-id-65 div.sk-serial::before {content: \"\";position: absolute;border-left: 1px solid gray;box-sizing: border-box;top: 0;bottom: 0;left: 50%;z-index: 0;}#sk-container-id-65 div.sk-serial {display: flex;flex-direction: column;align-items: center;background-color: white;padding-right: 0.2em;padding-left: 0.2em;position: relative;}#sk-container-id-65 div.sk-item {position: relative;z-index: 1;}#sk-container-id-65 div.sk-parallel {display: flex;align-items: stretch;justify-content: center;background-color: white;position: relative;}#sk-container-id-65 div.sk-item::before, #sk-container-id-65 div.sk-parallel-item::before {content: \"\";position: absolute;border-left: 1px solid gray;box-sizing: border-box;top: 0;bottom: 0;left: 50%;z-index: -1;}#sk-container-id-65 div.sk-parallel-item {display: flex;flex-direction: column;z-index: 1;position: relative;background-color: white;}#sk-container-id-65 div.sk-parallel-item:first-child::after {align-self: flex-end;width: 50%;}#sk-container-id-65 div.sk-parallel-item:last-child::after {align-self: flex-start;width: 50%;}#sk-container-id-65 div.sk-parallel-item:only-child::after {width: 0;}#sk-container-id-65 div.sk-dashed-wrapped {border: 1px dashed gray;margin: 0 0.4em 0.5em 0.4em;box-sizing: border-box;padding-bottom: 0.4em;background-color: white;}#sk-container-id-65 div.sk-label label {font-family: monospace;font-weight: bold;display: inline-block;line-height: 1.2em;}#sk-container-id-65 div.sk-label-container {text-align: center;}#sk-container-id-65 div.sk-container {/* jupyter's `normalize.less` sets `[hidden] { display: none; }` but bootstrap.min.css set `[hidden] { display: none !important; }` so we also need the `!important` here to be able to override the default hidden behavior on the sphinx rendered scikit-learn.org. See: https://github.com/scikit-learn/scikit-learn/issues/21755 */display: inline-block !important;position: relative;}#sk-container-id-65 div.sk-text-repr-fallback {display: none;}</style><div id=\"sk-container-id-65\" class=\"sk-top-container\"><div class=\"sk-text-repr-fallback\"><pre>MLPClassifier(hidden_layer_sizes=(3, 2), learning_rate_init=0.1, max_iter=500,\n",
       "              verbose=True)</pre><b>In a Jupyter environment, please rerun this cell to show the HTML representation or trust the notebook. <br />On GitHub, the HTML representation is unable to render, please try loading this page with nbviewer.org.</b></div><div class=\"sk-container\" hidden><div class=\"sk-item\"><div class=\"sk-estimator sk-toggleable\"><input class=\"sk-toggleable__control sk-hidden--visually\" id=\"sk-estimator-id-65\" type=\"checkbox\" checked><label for=\"sk-estimator-id-65\" class=\"sk-toggleable__label sk-toggleable__label-arrow\">MLPClassifier</label><div class=\"sk-toggleable__content\"><pre>MLPClassifier(hidden_layer_sizes=(3, 2), learning_rate_init=0.1, max_iter=500,\n",
       "              verbose=True)</pre></div></div></div></div></div>"
      ],
      "text/plain": [
       "MLPClassifier(hidden_layer_sizes=(3, 2), learning_rate_init=0.1, max_iter=500,\n",
       "              verbose=True)"
      ]
     },
     "execution_count": 345,
     "metadata": {},
     "output_type": "execute_result"
    }
   ],
   "source": [
    "clf = MLPClassifier(hidden_layer_sizes=(3,2), activation='relu', solver='adam', learning_rate_init=0.1, max_iter=500, verbose=True)\n",
    "clf.fit(X_train, y_train)"
   ]
  },
  {
   "cell_type": "code",
   "execution_count": 346,
   "id": "1e0a2dc3",
   "metadata": {},
   "outputs": [
    {
     "data": {
      "text/plain": [
       "[array([-0.41604981, -0.53620708, -0.68291326]),\n",
       " array([-4.89473367, -0.01701852]),\n",
       " array([ 4.74646467,  4.75153113, -0.5815871 , -6.11499148, -8.17410746,\n",
       "         4.76061139, -4.29823676, -6.67887584,  5.46354939,  4.75466051,\n",
       "         4.77275441,  5.32177259, -4.16607999,  4.99270767,  5.45664976,\n",
       "        -7.00959724,  2.06850258])]"
      ]
     },
     "execution_count": 346,
     "metadata": {},
     "output_type": "execute_result"
    }
   ],
   "source": [
    "clf.intercepts_"
   ]
  },
  {
   "cell_type": "code",
   "execution_count": 324,
   "id": "6cccf257",
   "metadata": {},
   "outputs": [],
   "source": [
    "y_pred = clf.predict(X_test)"
   ]
  },
  {
   "cell_type": "code",
   "execution_count": 325,
   "id": "68906a70",
   "metadata": {
    "scrolled": false
   },
   "outputs": [
    {
     "name": "stdout",
     "output_type": "stream",
     "text": [
      "[93.0, 103.0, 99.0, 88.0, 86.0, 71.0, 79.0, 93.0, 84.0, 91.0]\n",
      "[98. 89. 73. 86. 98. 79. 93. 93. 93. 98.]\n"
     ]
    }
   ],
   "source": [
    "print(y_test)\n",
    "print(y_pred)"
   ]
  },
  {
   "cell_type": "code",
   "execution_count": 326,
   "id": "a90dd40b",
   "metadata": {
    "scrolled": true
   },
   "outputs": [
    {
     "data": {
      "text/plain": [
       "[-5.0, 14.0, 26.0, 2.0, -12.0, -8.0, -14.0, 0.0, -9.0, -7.0]"
      ]
     },
     "execution_count": 326,
     "metadata": {},
     "output_type": "execute_result"
    }
   ],
   "source": [
    "selisih = []\n",
    "for i in range(len(y_test)):\n",
    "    slh = y_test[i] - y_pred[i]\n",
    "    selisih.append(slh)\n",
    "selisih"
   ]
  },
  {
   "cell_type": "code",
   "execution_count": 327,
   "id": "527dde7d",
   "metadata": {
    "scrolled": false
   },
   "outputs": [
    {
     "name": "stdout",
     "output_type": "stream",
     "text": [
      "+--------------+-----------+---------------+---------+\n",
      "| Nama         |   Invasif |   Non-invasif |   Galat |\n",
      "+==============+===========+===============+=========+\n",
      "| adit20.csv   |        93 |            98 |      -5 |\n",
      "+--------------+-----------+---------------+---------+\n",
      "| bagus.csv    |       103 |            89 |      14 |\n",
      "+--------------+-----------+---------------+---------+\n",
      "| daf.csv      |        99 |            73 |      26 |\n",
      "+--------------+-----------+---------------+---------+\n",
      "| khouliya.csv |        88 |            86 |       2 |\n",
      "+--------------+-----------+---------------+---------+\n",
      "| rad01.csv    |        86 |            98 |     -12 |\n",
      "+--------------+-----------+---------------+---------+\n",
      "| rad02.csv    |        71 |            79 |      -8 |\n",
      "+--------------+-----------+---------------+---------+\n",
      "| rad03.csv    |        79 |            93 |     -14 |\n",
      "+--------------+-----------+---------------+---------+\n",
      "| rad04.csv    |        93 |            93 |       0 |\n",
      "+--------------+-----------+---------------+---------+\n",
      "| rad05.csv    |        84 |            93 |      -9 |\n",
      "+--------------+-----------+---------------+---------+\n",
      "| rik.csv      |        91 |            98 |      -7 |\n",
      "+--------------+-----------+---------------+---------+\n"
     ]
    }
   ],
   "source": [
    "nama = [row[0] for row in testGlucose]\n",
    "hD = ['Nama','Invasif','Non-invasif','Galat']\n",
    "table = zip(nama, y_test, y_pred, selisih)\n",
    "print(tabulate(table, headers=hD, tablefmt='grid'))"
   ]
  },
  {
   "cell_type": "markdown",
   "id": "e6edcecc",
   "metadata": {},
   "source": [
    "## Simpan NN"
   ]
  },
  {
   "cell_type": "code",
   "execution_count": 328,
   "id": "fe93680c",
   "metadata": {},
   "outputs": [],
   "source": [
    "# with open('ann_005','wb') as r:\n",
    "#     pickle.dump(clf,r)"
   ]
  },
  {
   "cell_type": "markdown",
   "id": "f7a55588",
   "metadata": {},
   "source": [
    "## Muat NN"
   ]
  },
  {
   "cell_type": "code",
   "execution_count": 329,
   "id": "85ff696f",
   "metadata": {},
   "outputs": [
    {
     "name": "stdout",
     "output_type": "stream",
     "text": [
      "Iteration 1, loss = 2.76830899\n",
      "Iteration 2, loss = 2.62567405\n",
      "Iteration 3, loss = 2.41391762\n",
      "Iteration 4, loss = 2.23821776\n",
      "Iteration 5, loss = 2.04670089\n",
      "Iteration 6, loss = 1.91237020\n",
      "Iteration 7, loss = 1.77875394\n",
      "Iteration 8, loss = 1.63652803\n",
      "Iteration 9, loss = 1.51920758\n",
      "Iteration 10, loss = 1.42612130\n",
      "Iteration 11, loss = 1.32720233\n",
      "Iteration 12, loss = 1.22351928\n",
      "Iteration 13, loss = 1.11824263\n",
      "Iteration 14, loss = 1.01209061\n",
      "Iteration 15, loss = 0.91589826\n",
      "Iteration 16, loss = 0.84469150\n",
      "Iteration 17, loss = 0.76579071\n",
      "Iteration 18, loss = 0.68931723\n",
      "Iteration 19, loss = 0.63378689\n",
      "Iteration 20, loss = 0.60222552\n",
      "Iteration 21, loss = 0.64903141\n",
      "Iteration 22, loss = 0.55412915\n",
      "Iteration 23, loss = 0.50938000\n",
      "Iteration 24, loss = 0.52033619\n",
      "Iteration 25, loss = 0.42977259\n",
      "Iteration 26, loss = 0.46668471\n",
      "Iteration 27, loss = 0.40904367\n",
      "Iteration 28, loss = 0.39784144\n",
      "Iteration 29, loss = 0.37506958\n",
      "Iteration 30, loss = 0.36120846\n",
      "Iteration 31, loss = 0.35563649\n",
      "Iteration 32, loss = 0.31401211\n",
      "Iteration 33, loss = 0.32922129\n",
      "Iteration 34, loss = 0.28524125\n",
      "Iteration 35, loss = 0.29450826\n",
      "Iteration 36, loss = 0.26896255\n",
      "Iteration 37, loss = 0.25996879\n",
      "Iteration 38, loss = 0.25324997\n",
      "Iteration 39, loss = 0.23729276\n",
      "Iteration 40, loss = 0.23381805\n",
      "Iteration 41, loss = 0.21427942\n",
      "Iteration 42, loss = 0.21599502\n",
      "Iteration 43, loss = 0.20101325\n",
      "Iteration 44, loss = 0.19563042\n",
      "Iteration 45, loss = 0.19185243\n",
      "Iteration 46, loss = 0.18031032\n",
      "Iteration 47, loss = 0.17412461\n",
      "Iteration 48, loss = 0.16587812\n",
      "Iteration 49, loss = 0.15806921\n",
      "Iteration 50, loss = 0.14808211\n",
      "Iteration 51, loss = 0.14089393\n",
      "Iteration 52, loss = 0.13224876\n",
      "Iteration 53, loss = 0.12826764\n",
      "Iteration 54, loss = 0.12603840\n",
      "Iteration 55, loss = 0.11728676\n",
      "Iteration 56, loss = 0.10548860\n",
      "Iteration 57, loss = 0.09553408\n",
      "Iteration 58, loss = 0.08604943\n",
      "Iteration 59, loss = 0.07508056\n",
      "Iteration 60, loss = 0.06716955\n",
      "Iteration 61, loss = 0.06037094\n",
      "Iteration 62, loss = 0.05420351\n",
      "Iteration 63, loss = 0.04905691\n",
      "Iteration 64, loss = 0.04423551\n",
      "Iteration 65, loss = 0.04056776\n",
      "Iteration 66, loss = 0.03842145\n",
      "Iteration 67, loss = 0.03771232\n",
      "Iteration 68, loss = 0.03914004\n",
      "Iteration 69, loss = 0.03912969\n",
      "Iteration 70, loss = 0.03354253\n",
      "Iteration 71, loss = 0.02252112\n",
      "Iteration 72, loss = 0.02523243\n",
      "Iteration 73, loss = 0.02299090\n",
      "Iteration 74, loss = 0.01792126\n",
      "Iteration 75, loss = 0.01939561\n",
      "Iteration 76, loss = 0.01490022\n",
      "Iteration 77, loss = 0.01610620\n",
      "Iteration 78, loss = 0.01311008\n",
      "Iteration 79, loss = 0.01347080\n",
      "Iteration 80, loss = 0.01177173\n",
      "Iteration 81, loss = 0.01131177\n",
      "Iteration 82, loss = 0.01087143\n",
      "Iteration 83, loss = 0.00959098\n",
      "Iteration 84, loss = 0.00983887\n",
      "Iteration 85, loss = 0.00868771\n",
      "Iteration 86, loss = 0.00838761\n",
      "Iteration 87, loss = 0.00821230\n",
      "Iteration 88, loss = 0.00738669\n",
      "Iteration 89, loss = 0.00732403\n",
      "Iteration 90, loss = 0.00706860\n",
      "Iteration 91, loss = 0.00652797\n",
      "Iteration 92, loss = 0.00648777\n",
      "Iteration 93, loss = 0.00622592\n",
      "Iteration 94, loss = 0.00584649\n",
      "Iteration 95, loss = 0.00580035\n",
      "Iteration 96, loss = 0.00561842\n",
      "Iteration 97, loss = 0.00533610\n",
      "Iteration 98, loss = 0.00527504\n",
      "Iteration 99, loss = 0.00516239\n",
      "Iteration 100, loss = 0.00493706\n",
      "Iteration 101, loss = 0.00484842\n",
      "Iteration 102, loss = 0.00479396\n",
      "Iteration 103, loss = 0.00464006\n",
      "Iteration 104, loss = 0.00453389\n",
      "Iteration 105, loss = 0.00449251\n",
      "Iteration 106, loss = 0.00439421\n",
      "Iteration 107, loss = 0.00428207\n",
      "Iteration 108, loss = 0.00423116\n",
      "Iteration 109, loss = 0.00417569\n",
      "Iteration 110, loss = 0.00408229\n",
      "Iteration 111, loss = 0.00401569\n",
      "Iteration 112, loss = 0.00397700\n",
      "Iteration 113, loss = 0.00391455\n",
      "Iteration 114, loss = 0.00384300\n",
      "Iteration 115, loss = 0.00379830\n",
      "Iteration 116, loss = 0.00375839\n",
      "Iteration 117, loss = 0.00370102\n",
      "Iteration 118, loss = 0.00364975\n",
      "Training loss did not improve more than tol=0.000100 for 10 consecutive epochs. Stopping.\n",
      "MLPClassifier(activation='identity', hidden_layer_sizes=(10, 5),\n",
      "              learning_rate_init=0.1, max_iter=500, verbose=True)\n"
     ]
    }
   ],
   "source": [
    "print(ann.fit(X_train, y_train))"
   ]
  },
  {
   "cell_type": "code",
   "execution_count": 330,
   "id": "4b13c567",
   "metadata": {
    "scrolled": true
   },
   "outputs": [
    {
     "name": "stdout",
     "output_type": "stream",
     "text": [
      "[93.0, 103.0, 99.0, 88.0, 86.0, 71.0, 79.0, 93.0, 84.0, 91.0]\n",
      "\n",
      "+--------------+-----------+---------------+---------+-------+\n",
      "| Nama         |   Invasif |   Non-invasif |   Galat |   R^2 |\n",
      "+==============+===========+===============+=========+=======+\n",
      "| adit20.csv   |        93 |            95 |      -2 | 0.978 |\n",
      "+--------------+-----------+---------------+---------+-------+\n",
      "| bagus.csv    |       103 |            83 |      20 | 0.806 |\n",
      "+--------------+-----------+---------------+---------+-------+\n",
      "| daf.csv      |        99 |            73 |      26 | 0.737 |\n",
      "+--------------+-----------+---------------+---------+-------+\n",
      "| khouliya.csv |        88 |            86 |       2 | 0.977 |\n",
      "+--------------+-----------+---------------+---------+-------+\n",
      "| rad01.csv    |        86 |            85 |       1 | 0.988 |\n",
      "+--------------+-----------+---------------+---------+-------+\n",
      "| rad02.csv    |        71 |            85 |     -14 | 0.803 |\n",
      "+--------------+-----------+---------------+---------+-------+\n",
      "| rad03.csv    |        79 |            85 |      -6 | 0.924 |\n",
      "+--------------+-----------+---------------+---------+-------+\n",
      "| rad04.csv    |        93 |            85 |       8 | 0.914 |\n",
      "+--------------+-----------+---------------+---------+-------+\n",
      "| rad05.csv    |        84 |            93 |      -9 | 0.893 |\n",
      "+--------------+-----------+---------------+---------+-------+\n",
      "| rik.csv      |        91 |            85 |       6 | 0.934 |\n",
      "+--------------+-----------+---------------+---------+-------+\n"
     ]
    }
   ],
   "source": [
    "with open('ann_004','rb') as r:\n",
    "    ann = pickle.load(r)\n",
    "load_y_pred = ann.predict(X_test)\n",
    "load_selisih = []\n",
    "for i in range(len(y_test)):\n",
    "    slh = y_test[i] - load_y_pred[i]\n",
    "    load_selisih.append(slh)\n",
    "nama = [row[0] for row in testGlucose]\n",
    "r_square = []\n",
    "for i in range(len(y_test)):\n",
    "    r = 1 - (abs(load_selisih[i])/y_test[i])\n",
    "    r = round(r, 3)\n",
    "    r_square.append(r)\n",
    "\n",
    "hD = ['Nama','Invasif','Non-invasif','Galat','R^2']\n",
    "table = zip(nama, y_test, load_y_pred, load_selisih, r_square)\n",
    "print(y_test)\n",
    "print()\n",
    "print(tabulate(table, headers=hD, tablefmt='grid'))"
   ]
  },
  {
   "cell_type": "code",
   "execution_count": 342,
   "id": "67df5b78",
   "metadata": {
    "scrolled": true
   },
   "outputs": [
    {
     "data": {
      "text/plain": [
       "[array([[ 0.47989925,  0.45610122,  0.43183363, -0.29953043,  0.32689056,\n",
       "         -2.53513461, -2.11869546, -1.74471872,  1.00402831, -0.55722884],\n",
       "        [ 1.97957285, -0.46376351,  0.81071389, -1.23612164, -0.71242854,\n",
       "         -0.33193447, -1.96021657, -1.62075589,  0.90460064, -0.12585585],\n",
       "        [-2.04796672, -0.35457419, -0.98888727, -0.43007134, -1.13280986,\n",
       "         -2.18021464, -1.30388764,  2.34346406,  0.20382684,  0.97087952],\n",
       "        [ 1.13003161, -1.4276963 ,  1.12348572, -0.57642444, -0.44078235,\n",
       "          0.67006557, -1.08207315, -1.55968948,  0.99697247,  0.10042144],\n",
       "        [ 1.45382481, -0.70169795, -0.36693053,  0.93955705,  0.62955835,\n",
       "          1.15908163,  0.88381715,  1.14879041,  0.57365544,  0.83887931],\n",
       "        [-1.07381606, -0.45870394,  1.18869338, -2.13347765, -2.47629579,\n",
       "          0.8806913 , -0.23632031,  0.93572739,  0.79839627, -0.13455179],\n",
       "        [-2.78516517, -1.17635525, -1.2765847 , -1.48953777, -0.6057186 ,\n",
       "          0.27474225, -0.53109193, -3.14111513, -2.29857296, -2.25644532]]),\n",
       " array([[-2.31814892, -2.54037233,  2.90005585, -0.08183682, -0.81487761],\n",
       "        [ 0.28146858, -1.86356091, -1.37618719, -0.72162044,  0.11749121],\n",
       "        [-2.52429959, -1.10044256, -0.13121003, -1.20156239,  1.75622896],\n",
       "        [ 2.26419677, -3.91722866,  3.83230913,  1.14056558, -3.29906029],\n",
       "        [ 0.21411502, -3.12570964,  1.15746315,  0.8069844 , -2.00209604],\n",
       "        [-1.79696127,  2.11720308,  1.14246107, -1.34987335, -3.03306581],\n",
       "        [ 1.35736859,  0.78969616,  1.54912665, -1.04519283, -3.78505019],\n",
       "        [ 2.64995328,  0.58797159,  2.46867534, -1.8193337 ,  0.53275708],\n",
       "        [-1.38104488, -2.00014018,  0.97209459, -1.4391148 ,  3.433941  ],\n",
       "        [ 0.84774169, -0.12993946,  2.2242331 , -0.14608507,  0.00298006]]),\n",
       " array([[-1.88342056,  1.12430491,  1.08010158,  1.98533931,  1.35031801,\n",
       "          0.97213802, -1.23411844, -0.72094139,  2.76249375, -0.06302225,\n",
       "          0.35010835, -0.27808866, -0.41740387, -2.45880635, -0.78683859,\n",
       "          1.09239525, -0.80292541],\n",
       "        [ 0.38133369,  1.37929362, -1.43030875,  1.37733661,  0.09496693,\n",
       "         -0.33162723,  1.37134724, -2.01036933,  0.42826222, -0.02030826,\n",
       "         -1.31695732,  1.20874883,  1.06862355,  1.60909718, -3.46739284,\n",
       "          0.18414809, -0.74418243],\n",
       "        [ 0.92403123, -2.38789773,  1.72945667,  0.29561389,  2.20050209,\n",
       "         -3.34230402, -0.96801862,  2.36435632,  1.24823384, -3.07348175,\n",
       "         -1.41629391,  1.54331541, -2.57479461, -0.05928407, -0.38741956,\n",
       "          0.81523952, -0.63373647],\n",
       "        [-0.02487311, -1.18363448,  0.00292537, -1.43233678, -1.97239295,\n",
       "          1.3030112 , -2.41824262, -1.69181982,  1.55019222,  0.30880771,\n",
       "          2.42385741,  0.79483656, -1.76392649,  0.72909735,  0.16794534,\n",
       "         -1.31110375, -2.05241854],\n",
       "        [-4.00611411, -0.42170555, -3.32990649, -3.33085932, -2.66045485,\n",
       "          1.0056879 ,  1.511379  , -1.550241  , -3.31215439,  1.44519505,\n",
       "         -0.11258722,  0.4495301 ,  1.31623875, -0.91462458,  0.97473592,\n",
       "          1.6050288 ,  2.14098171]])]"
      ]
     },
     "execution_count": 342,
     "metadata": {},
     "output_type": "execute_result"
    }
   ],
   "source": [
    "ann.coefs_"
   ]
  },
  {
   "cell_type": "code",
   "execution_count": 343,
   "id": "14a9bbc3",
   "metadata": {},
   "outputs": [
    {
     "data": {
      "text/plain": [
       "[array([ 0.61687801, -1.17531583, -0.50702573,  1.26793426,  0.46694549,\n",
       "         0.56965213,  0.98382694,  0.72837787, -0.85424998,  1.37044055]),\n",
       " array([-0.00940159,  0.47607069,  1.80362455,  1.56098467, -1.08289754]),\n",
       " array([ 0.18520413, -0.62374605, -0.51523027, -1.11723682, -2.23322292,\n",
       "        -0.62269901, -0.8373743 ,  1.55880236, -0.55066915, -1.72135424,\n",
       "         1.20464836,  1.29107738, -0.137773  ,  1.86992745, -0.70511186,\n",
       "         1.076321  , -0.74534925])]"
      ]
     },
     "execution_count": 343,
     "metadata": {},
     "output_type": "execute_result"
    }
   ],
   "source": [
    "ann.intercepts_"
   ]
  },
  {
   "cell_type": "code",
   "execution_count": null,
   "id": "92b7088b",
   "metadata": {
    "scrolled": true
   },
   "outputs": [],
   "source": [
    "def Avg(lst):\n",
    "    return sum(lst) / len(lst)\n",
    "\n",
    "rerata_rSquare = Avg(r_square)\n",
    "print('Rata-rata R^2:', round(rerata_rSquare, 3))"
   ]
  },
  {
   "cell_type": "code",
   "execution_count": null,
   "id": "2001f6bf",
   "metadata": {},
   "outputs": [],
   "source": [
    "print(ann.predict(X_test))"
   ]
  },
  {
   "cell_type": "code",
   "execution_count": null,
   "id": "a57c51ce",
   "metadata": {},
   "outputs": [],
   "source": [
    "plot, zone = clarke_error_grid(y_test, load_y_pred, \"Linear Regression\")\n",
    "plot.show()"
   ]
  }
 ],
 "metadata": {
  "kernelspec": {
   "display_name": "Python 3 (ipykernel)",
   "language": "python",
   "name": "python3"
  },
  "language_info": {
   "codemirror_mode": {
    "name": "ipython",
    "version": 3
   },
   "file_extension": ".py",
   "mimetype": "text/x-python",
   "name": "python",
   "nbconvert_exporter": "python",
   "pygments_lexer": "ipython3",
   "version": "3.10.9"
  }
 },
 "nbformat": 4,
 "nbformat_minor": 5
}
